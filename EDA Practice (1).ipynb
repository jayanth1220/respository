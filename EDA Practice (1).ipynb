{
 "cells": [
  {
   "cell_type": "markdown",
   "metadata": {
    "id": "3_Fv7J8jTBlu"
   },
   "source": [
    "## You have been hired by a rookie movie producer to help him decide what type of movies to produce and which actors to cast. You have to back your recommendations based on thorough analysis of the data he shared with you which has the list of 3000 movies and the corresponding details.\n",
    "\n",
    "## As a data scientist, you have to first explore the data and check its sanity.\n",
    "\n",
    "## Further, you have to answer the following questions:\n",
    "1. ### <b> Which movie made the highest profit? Who were its producer and director? Identify the actors in that film.</b>\n",
    "2. ### <b>This data has information about movies made in different languages. Which language has the highest average ROI (return on investment)? </b>\n",
    "3. ### <b> Find out the unique genres of movies in this dataset.</b>\n",
    "4. ### <b> Make a table of all the producers and directors of each movie. Find the top 3 producers who have produced movies with the highest average RoI? </b>\n",
    "5. ### <b> Which actor has acted in the most number of movies? Deep dive into the movies, genres and profits corresponding to this actor. </b>\n",
    "6. ### <b>Top 3 directors prefer which actors the most? </b>\n",
    "\n"
   ]
  },
  {
   "cell_type": "code",
   "execution_count": null,
   "metadata": {
    "colab": {
     "base_uri": "https://localhost:8080/"
    },
    "id": "P6__MsS5DCm-",
    "outputId": "640179cd-d20e-4f43-9197-dc2e75fba37d"
   },
   "outputs": [],
   "source": [
    "from google.colab import drive\n",
    "drive.mount('/content/drive/')"
   ]
  },
  {
   "cell_type": "markdown",
   "metadata": {
    "id": "Fx8CVjtZW_BF"
   },
   "source": [
    "# Data Exploration"
   ]
  },
  {
   "cell_type": "code",
   "execution_count": null,
   "metadata": {
    "id": "vq7iMfybnKNP"
   },
   "outputs": [],
   "source": [
    "#Import package\n",
    "import pandas as pd\n",
    "import numpy as np"
   ]
  },
  {
   "cell_type": "code",
   "execution_count": null,
   "metadata": {
    "id": "mZ4nse2rDm-l"
   },
   "outputs": [],
   "source": [
    "path='/content/drive/MyDrive/AlmaBetter/Cohort Nilgiri/Module 1/Week 3/Day 2/dat/imdb_data.csv'\n",
    "imdb_df = pd.read_csv(path)"
   ]
  },
  {
   "cell_type": "code",
   "execution_count": null,
   "metadata": {
    "colab": {
     "base_uri": "https://localhost:8080/",
     "height": 323
    },
    "id": "W5U_B0j0EDkb",
    "outputId": "34ec5a08-00ad-4bf9-c270-7a488b4dec82"
   },
   "outputs": [],
   "source": [
    "imdb_df.head(2)"
   ]
  },
  {
   "cell_type": "code",
   "execution_count": null,
   "metadata": {
    "colab": {
     "base_uri": "https://localhost:8080/"
    },
    "id": "iMwpBGFeEGgx",
    "outputId": "04b1e5f6-f29a-4570-f660-596237f0af92"
   },
   "outputs": [],
   "source": [
    "imdb_df.info()"
   ]
  },
  {
   "cell_type": "code",
   "execution_count": null,
   "metadata": {
    "colab": {
     "base_uri": "https://localhost:8080/"
    },
    "id": "J_Od2vftFrdO",
    "outputId": "dea2d15c-1546-4458-ef3e-4d6d953e72ca"
   },
   "outputs": [],
   "source": [
    "print(imdb_df.columns)"
   ]
  },
  {
   "cell_type": "markdown",
   "metadata": {
    "id": "HRacEdjwF0fQ"
   },
   "source": [
    "##After reading all Qs. now subsetting out columns neceesary for answering the question in order to get proper insights\n",
    "\n",
    "#### **keep all columns which are non null"
   ]
  },
  {
   "cell_type": "code",
   "execution_count": null,
   "metadata": {
    "id": "TBZ_pc71Fx2J"
   },
   "outputs": [],
   "source": [
    "columns_to_keep= ['budget', 'genres','original_language', 'original_title','cast', 'crew', 'revenue']"
   ]
  },
  {
   "cell_type": "code",
   "execution_count": null,
   "metadata": {
    "colab": {
     "base_uri": "https://localhost:8080/"
    },
    "id": "tmg0rbFDHE-1",
    "outputId": "4675d3fb-97b2-4373-fe76-de04d9758ad9"
   },
   "outputs": [],
   "source": [
    "#find all the row indexes for which genres is not null\n",
    "imdb_df.loc[~imdb_df['genres'].isna(),'genres']"
   ]
  },
  {
   "cell_type": "code",
   "execution_count": null,
   "metadata": {
    "colab": {
     "base_uri": "https://localhost:8080/"
    },
    "id": "LSo6N0zlEJto",
    "outputId": "89f9abe8-a92d-44c6-8260-9cbfe30fdcb0"
   },
   "outputs": [],
   "source": [
    "type(imdb_df.loc[0,'cast'])"
   ]
  },
  {
   "cell_type": "markdown",
   "metadata": {
    "id": "AF_MT5W6FBlb"
   },
   "source": [
    "##Converting the string values to proper list and we are using it on columns --> cast crew genres\n",
    "## Converting only non null string"
   ]
  },
  {
   "cell_type": "code",
   "execution_count": null,
   "metadata": {
    "id": "GaRHldsFEhIF"
   },
   "outputs": [],
   "source": [
    "def convert_to_list(str):\n",
    "  return eval(str)"
   ]
  },
  {
   "cell_type": "code",
   "execution_count": null,
   "metadata": {
    "id": "Us-VvGs4Fi9D"
   },
   "outputs": [],
   "source": [
    "#apply the above function only on non null values in genres column\n",
    "imdb_df.loc[~imdb_df['genres'].isna(),'genres']= imdb_df.loc[~imdb_df['genres'].isna(),'genres'].apply(convert_to_list)"
   ]
  },
  {
   "cell_type": "code",
   "execution_count": null,
   "metadata": {
    "id": "ZBtCBX4cH_z7"
   },
   "outputs": [],
   "source": [
    "#apply the above function only on non null values in cast column\n",
    "imdb_df.loc[~imdb_df['cast'].isna(),'cast']= imdb_df.loc[~imdb_df['cast'].isna(),'cast'].apply(convert_to_list)"
   ]
  },
  {
   "cell_type": "code",
   "execution_count": null,
   "metadata": {
    "id": "KlTeSq5OIIf1"
   },
   "outputs": [],
   "source": [
    "#apply the above function only on non null values in crew column\n",
    "imdb_df.loc[~imdb_df['crew'].isna(),'crew']= imdb_df.loc[~imdb_df['crew'].isna(),'crew'].apply(convert_to_list)"
   ]
  },
  {
   "cell_type": "markdown",
   "metadata": {
    "id": "psriYR9ojvI5"
   },
   "source": [
    "just keep in mind which column we have to use"
   ]
  },
  {
   "cell_type": "code",
   "execution_count": null,
   "metadata": {
    "id": "qEq6DymfI2dk"
   },
   "outputs": [],
   "source": [
    "#creating a copy of orginal df\n",
    "imdb_df_new = imdb_df.copy()"
   ]
  },
  {
   "cell_type": "code",
   "execution_count": null,
   "metadata": {
    "colab": {
     "base_uri": "https://localhost:8080/",
     "height": 323
    },
    "id": "ZaljcVN-JtyV",
    "outputId": "915cfe4f-1741-4f96-9198-dd9af6511951"
   },
   "outputs": [],
   "source": [
    "imdb_df_new.head(2)"
   ]
  },
  {
   "cell_type": "markdown",
   "metadata": {
    "id": "w5fXmoGpIlqm"
   },
   "source": [
    "#Q1.Which movie made the highest profit? Who were its producer and director? Identify the actors in that film."
   ]
  },
  {
   "cell_type": "code",
   "execution_count": null,
   "metadata": {
    "colab": {
     "base_uri": "https://localhost:8080/",
     "height": 300
    },
    "id": "vSnL5Wr-IU0F",
    "outputId": "bf40a95a-5d1a-4b25-b3a5-63d699cc699c"
   },
   "outputs": [],
   "source": [
    "#checking for sanity in budget columns (outliers,vague values etc)\n",
    "imdb_df_new.describe()\n",
    "#budget of a movie in general cannot be 0 hence replacing those value with 0"
   ]
  },
  {
   "cell_type": "code",
   "execution_count": null,
   "metadata": {
    "colab": {
     "base_uri": "https://localhost:8080/",
     "height": 441
    },
    "id": "mF8LaaA2KTjH",
    "outputId": "82fb64b3-4f31-4a2c-8d9d-77d25582edaa"
   },
   "outputs": [],
   "source": [
    "\n",
    "imdb_df_new[imdb_df_new['budget']==0].head(3)"
   ]
  },
  {
   "cell_type": "code",
   "execution_count": null,
   "metadata": {
    "colab": {
     "base_uri": "https://localhost:8080/"
    },
    "id": "PyxGenO3LzJc",
    "outputId": "85be9f4b-080d-46b7-f1e4-cbd79052dcb2"
   },
   "outputs": [],
   "source": [
    "imdb_df_new['budget'].median()"
   ]
  },
  {
   "cell_type": "code",
   "execution_count": null,
   "metadata": {
    "id": "k-XmBzjUJDhb"
   },
   "outputs": [],
   "source": [
    "#Replace extremely low values of budget and revenue column with median values of budget, revenue\n",
    "imdb_df_new.loc[imdb_df_new['budget']<1000,'budget']= imdb_df_new['budget'].median()\n",
    "\n",
    "imdb_df_new.loc[imdb_df_new['revenue']<1000,'revenue']= imdb_df_new['revenue'].median()\n",
    "\n"
   ]
  },
  {
   "cell_type": "code",
   "execution_count": null,
   "metadata": {
    "colab": {
     "base_uri": "https://localhost:8080/",
     "height": 300
    },
    "id": "c2cefEoWLMQ4",
    "outputId": "8719028a-e9e9-493d-beb7-6d863add73d1"
   },
   "outputs": [],
   "source": [
    "imdb_df_new.describe() #now fine"
   ]
  },
  {
   "cell_type": "code",
   "execution_count": null,
   "metadata": {
    "colab": {
     "base_uri": "https://localhost:8080/"
    },
    "id": "6namVi_xivlv",
    "outputId": "61a159ab-cce2-48cf-a522-d3acd33621e5"
   },
   "outputs": [],
   "source": [
    "imdb_df_new['genres'].isnull().sum()"
   ]
  },
  {
   "cell_type": "code",
   "execution_count": null,
   "metadata": {
    "id": "xJpj8UrjMdQN"
   },
   "outputs": [],
   "source": [
    "#create profit and ROI column\n",
    "imdb_df_new['profit'] = imdb_df_new['revenue'] - imdb_df_new['budget']\n",
    "imdb_df_new['roi']= 100* (imdb_df_new['profit']/imdb_df_new['budget'])"
   ]
  },
  {
   "cell_type": "code",
   "execution_count": null,
   "metadata": {
    "colab": {
     "base_uri": "https://localhost:8080/",
     "height": 323
    },
    "id": "h4HWcUEqM6OY",
    "outputId": "95a313ca-461c-4178-fba8-cce47b66459f"
   },
   "outputs": [],
   "source": [
    "\n",
    "imdb_df_new.head(2)"
   ]
  },
  {
   "cell_type": "code",
   "execution_count": null,
   "metadata": {
    "colab": {
     "base_uri": "https://localhost:8080/"
    },
    "id": "PoW-7fB_NOC_",
    "outputId": "5bfa8623-3c3b-4fd1-fe5d-6d006f330f43"
   },
   "outputs": [],
   "source": [
    "#maximum profit\n",
    "imdb_df_new['profit'].max()"
   ]
  },
  {
   "cell_type": "code",
   "execution_count": null,
   "metadata": {
    "colab": {
     "base_uri": "https://localhost:8080/"
    },
    "id": "bZYAsDXNNCJ4",
    "outputId": "aaa5b1a2-bcbf-4772-88ec-84612bf6088e"
   },
   "outputs": [],
   "source": [
    "#find index or row which have the max profit using .idxmax()\n",
    "#.idxmax()-->> returns the row number(index) for the max value of the column\n",
    "imdb_df_new['profit'].idxmax()"
   ]
  },
  {
   "cell_type": "markdown",
   "metadata": {
    "id": "R-W8Vy_SN_5N"
   },
   "source": [
    "###The movie which made the highest profit is:"
   ]
  },
  {
   "cell_type": "code",
   "execution_count": null,
   "metadata": {
    "colab": {
     "base_uri": "https://localhost:8080/",
     "height": 36
    },
    "id": "cO6Dr900NKOc",
    "outputId": "b73044a4-7540-41fa-efaa-64a57c6d6020"
   },
   "outputs": [],
   "source": [
    "imdb_df_new.loc[imdb_df_new['profit'].idxmax(),'original_title']"
   ]
  },
  {
   "cell_type": "code",
   "execution_count": null,
   "metadata": {
    "id": "xi-KWISlORpR"
   },
   "outputs": [],
   "source": [
    "max_profit_movie_df = imdb_df_new.iloc[imdb_df_new['profit'].idxmax()]"
   ]
  },
  {
   "cell_type": "code",
   "execution_count": null,
   "metadata": {
    "colab": {
     "base_uri": "https://localhost:8080/"
    },
    "id": "diPoWc4YOl5k",
    "outputId": "286f4550-0bf2-4f77-dce3-547106153e38"
   },
   "outputs": [],
   "source": [
    "\n",
    "max_profit_movie_df.head()"
   ]
  },
  {
   "cell_type": "code",
   "execution_count": null,
   "metadata": {
    "colab": {
     "base_uri": "https://localhost:8080/",
     "height": 36
    },
    "id": "uLbKLpAwOro-",
    "outputId": "77b37a50-3409-4b25-84ac-ac96f22afa26"
   },
   "outputs": [],
   "source": [
    "max_profit_movie_df.loc['cast'][0]['name']"
   ]
  },
  {
   "cell_type": "code",
   "execution_count": null,
   "metadata": {
    "colab": {
     "base_uri": "https://localhost:8080/"
    },
    "id": "evPHdk6nOy1Q",
    "outputId": "be7611e6-7f75-49b9-c058-36786aac9b5e"
   },
   "outputs": [],
   "source": [
    "crew_list= max_profit_movie_df.loc['crew']\n",
    "crew_list[0:3]"
   ]
  },
  {
   "cell_type": "markdown",
   "metadata": {
    "id": "mgCnaG_RQWwO"
   },
   "source": [
    "### Name of the director and producer of the movie which made highest profit are:"
   ]
  },
  {
   "cell_type": "code",
   "execution_count": null,
   "metadata": {
    "id": "FwcuxP14PTB_"
   },
   "outputs": [],
   "source": [
    "producer_list=[]\n",
    "director_list=[]\n",
    "for elem in crew_list:\n",
    "  if elem['job']=='Producer':\n",
    "    producer_list.append(elem['name'])\n",
    "  if elem['job']=='Director':\n",
    "    director_list.append(elem['name'])\n"
   ]
  },
  {
   "cell_type": "code",
   "execution_count": null,
   "metadata": {
    "colab": {
     "base_uri": "https://localhost:8080/"
    },
    "id": "uQ0XsTDJQLpZ",
    "outputId": "7986b1bb-5767-4984-b005-97c91035289d"
   },
   "outputs": [],
   "source": [
    "print(f'PRODUCERS : {producer_list}')\n",
    "print(f'DIRECTORS : {director_list}')"
   ]
  },
  {
   "cell_type": "code",
   "execution_count": null,
   "metadata": {
    "id": "seCZs6zQS0s-"
   },
   "outputs": [],
   "source": [
    "cast_list =max_profit_movie_df['cast']"
   ]
  },
  {
   "cell_type": "code",
   "execution_count": null,
   "metadata": {
    "colab": {
     "base_uri": "https://localhost:8080/"
    },
    "id": "zT9GtfbBS-Z5",
    "outputId": "fe740ea7-0126-438e-b3ee-d6ed52e5f130"
   },
   "outputs": [],
   "source": [
    "cast_list[0:3]"
   ]
  },
  {
   "cell_type": "markdown",
   "metadata": {
    "id": "rWS2-vdATOEN"
   },
   "source": [
    "###Actors in the Highest profit movie"
   ]
  },
  {
   "cell_type": "code",
   "execution_count": null,
   "metadata": {
    "id": "-VqvjOWiQvEe"
   },
   "outputs": [],
   "source": [
    "actor_list=[]\n",
    "for elem in cast_list:\n",
    "  actor_list.append(elem['name'])"
   ]
  },
  {
   "cell_type": "code",
   "execution_count": null,
   "metadata": {
    "colab": {
     "base_uri": "https://localhost:8080/"
    },
    "id": "_RZi1L9fTTz-",
    "outputId": "4bce63e6-030c-4d50-d203-5f650e45e9e8"
   },
   "outputs": [],
   "source": [
    "#actors\n",
    "print(f'Actors of the movie are :')\n",
    "actor_list"
   ]
  },
  {
   "cell_type": "markdown",
   "metadata": {
    "id": "Ew5DHk1-dpdN"
   },
   "source": [
    "####Understanding the groupby function"
   ]
  },
  {
   "cell_type": "code",
   "execution_count": null,
   "metadata": {
    "id": "17q3h8p9ey_D"
   },
   "outputs": [],
   "source": [
    "#kn.groupby('Name')['No.'].mean()"
   ]
  },
  {
   "cell_type": "code",
   "execution_count": null,
   "metadata": {
    "id": "5tLAU7_MfBIn"
   },
   "outputs": [],
   "source": [
    "#kn.groupby('Name').count()"
   ]
  },
  {
   "cell_type": "markdown",
   "metadata": {
    "id": "inc8DAbJT-4g"
   },
   "source": [
    "#Q2.This data has information about movies made in different languages. Which language has the highest average ROI (return on investment)?"
   ]
  },
  {
   "cell_type": "code",
   "execution_count": null,
   "metadata": {
    "id": "tEAU7VkhTkV7"
   },
   "outputs": [],
   "source": [
    " #we already calculated roi above\n",
    " #df['roi'] = 100 * df['profit']/df['budget']\n"
   ]
  },
  {
   "cell_type": "code",
   "execution_count": null,
   "metadata": {
    "colab": {
     "base_uri": "https://localhost:8080/",
     "height": 143
    },
    "id": "YGUFKtdtgvh8",
    "outputId": "6cdd1b68-ec72-4886-a16d-cd50ba8d0cc3"
   },
   "outputs": [],
   "source": [
    "#Use groupby function on movie languages and ROI and finding mean\n",
    "imdb_df_new.groupby('original_language')['roi'].mean().reset_index().sort_values(by='roi',ascending=False).head(3)"
   ]
  },
  {
   "cell_type": "code",
   "execution_count": null,
   "metadata": {
    "colab": {
     "base_uri": "https://localhost:8080/",
     "height": 54
    },
    "id": "trGPPBeVdcov",
    "outputId": "78c91ce2-8430-4c52-af25-adac70e8733e"
   },
   "outputs": [],
   "source": [
    "\n",
    "print('Language with highest average roi is')\n",
    "imdb_df_new.groupby('original_language')['roi'].mean().reset_index().sort_values(by='roi',ascending=False).iloc[0,0]"
   ]
  },
  {
   "cell_type": "markdown",
   "metadata": {
    "id": "hjBNvqcGhOSo"
   },
   "source": [
    "#Q3.Find out the unique genres of movies in this dataset."
   ]
  },
  {
   "cell_type": "code",
   "execution_count": null,
   "metadata": {
    "id": "hTH09Nzif2zt"
   },
   "outputs": [],
   "source": [
    "#considering only those rows in genres column which have no null values\n",
    "no_na_genres = imdb_df_new[~imdb_df_new['genres'].isna()]"
   ]
  },
  {
   "cell_type": "code",
   "execution_count": null,
   "metadata": {
    "colab": {
     "base_uri": "https://localhost:8080/"
    },
    "id": "aZQc2Om-iTZY",
    "outputId": "279247ab-bdcd-43f1-c48d-abb73725fe5f"
   },
   "outputs": [],
   "source": [
    "len(no_na_genres)"
   ]
  },
  {
   "cell_type": "code",
   "execution_count": null,
   "metadata": {
    "colab": {
     "base_uri": "https://localhost:8080/"
    },
    "id": "LE0hBlRViVmT",
    "outputId": "972aef62-0b26-42a7-cd3d-d0919de643f9"
   },
   "outputs": [],
   "source": [
    "no_na_genres.loc[0,'genres']"
   ]
  },
  {
   "cell_type": "code",
   "execution_count": null,
   "metadata": {
    "colab": {
     "base_uri": "https://localhost:8080/"
    },
    "id": "aRiJdnbYmoFU",
    "outputId": "8c5460e8-b522-436f-c94e-9444dd9ead0e"
   },
   "outputs": [],
   "source": [
    "no_na_genres.loc[0,'genres'][0]"
   ]
  },
  {
   "cell_type": "code",
   "execution_count": null,
   "metadata": {
    "colab": {
     "base_uri": "https://localhost:8080/"
    },
    "id": "WwjWk_mRpAcC",
    "outputId": "c6a9c0ba-1b60-4b8b-9f54-5ba480c08534"
   },
   "outputs": [],
   "source": [
    "no_na_genres.loc[3,'genres']"
   ]
  },
  {
   "cell_type": "code",
   "execution_count": null,
   "metadata": {
    "colab": {
     "base_uri": "https://localhost:8080/",
     "height": 677
    },
    "id": "1Kjg1zDGj_fK",
    "outputId": "b7f0f213-cf9e-486e-8243-ab85cdcafbe6"
   },
   "outputs": [],
   "source": [
    "#create a list of genres and using .iterrow() method to iterate over genres column\n",
    "# .iterrow() --->> same as enumerate() its compulsory to use it in case of DataFrame\n",
    "gen_list=[]\n",
    "for index,row in no_na_genres.iterrows():\n",
    "  genre = no_na_genres.loc[index,'genres']\n",
    "  for k in genre:\n",
    "    gen_list.append(k['name'])\n",
    "\n",
    "#unique list of genres are:\n",
    "pd.DataFrame(set(gen_list),columns=['Unique Genres'])\n",
    "\n",
    "\n"
   ]
  },
  {
   "cell_type": "markdown",
   "metadata": {
    "id": "veQ7_2mCvkVH"
   },
   "source": [
    "#Q4.Make a table of all the producers and directors of each movie. Find the top 3 producers who have produced movies with the highest average RoI?"
   ]
  },
  {
   "cell_type": "code",
   "execution_count": null,
   "metadata": {
    "id": "Cht1r0YOG0vu"
   },
   "outputs": [],
   "source": [
    "#considering only those rows in crew column which have no null values\n",
    "no_na_crew = imdb_df_new[~imdb_df_new['crew'].isna()]"
   ]
  },
  {
   "cell_type": "code",
   "execution_count": null,
   "metadata": {
    "colab": {
     "base_uri": "https://localhost:8080/"
    },
    "id": "BGQVkm10G7Ud",
    "outputId": "cdd20aba-1edb-4d43-f68d-eed556b5a9ae"
   },
   "outputs": [],
   "source": [
    "no_na_crew.shape"
   ]
  },
  {
   "cell_type": "code",
   "execution_count": null,
   "metadata": {
    "id": "1mtwl2dd_T5e"
   },
   "outputs": [],
   "source": [
    "#A simple function to extract list of all producers for a given movie_index\n",
    "def create_producer_list(index):\n",
    "  movie_index = no_na_crew.iloc[index]\n",
    "  crew_list= movie_index.loc['crew']\n",
    "  producer_list=[]\n",
    "  for elem in crew_list:\n",
    "     if elem['job']=='Producer':\n",
    "        producer_list.append(elem['name'])\n",
    "  return producer_list"
   ]
  },
  {
   "cell_type": "code",
   "execution_count": null,
   "metadata": {
    "colab": {
     "base_uri": "https://localhost:8080/"
    },
    "id": "c6WLgxZHAcCd",
    "outputId": "a8f042a5-ac6a-49c6-edca-e25e9afc64ef"
   },
   "outputs": [],
   "source": [
    "create_producer_list(61)"
   ]
  },
  {
   "cell_type": "code",
   "execution_count": null,
   "metadata": {
    "id": "5qQvmlE3AJJu"
   },
   "outputs": [],
   "source": [
    "#A simple function to extract names of all directors for a given movie_index\n",
    "#each movie has only one director\n",
    "def create_director(index):\n",
    "  movie_index = no_na_crew.iloc[index]\n",
    "  crew_list= movie_index.loc['crew']\n",
    "\n",
    "  for elem in crew_list:\n",
    "     if elem['job']=='Director':\n",
    "        return elem['name']"
   ]
  },
  {
   "cell_type": "code",
   "execution_count": null,
   "metadata": {
    "colab": {
     "base_uri": "https://localhost:8080/",
     "height": 36
    },
    "id": "mqUZsXla_5vG",
    "outputId": "bbd05e42-7fb6-4aea-c51e-5614676b259b"
   },
   "outputs": [],
   "source": [
    "create_director(61)"
   ]
  },
  {
   "cell_type": "code",
   "execution_count": null,
   "metadata": {
    "id": "xK5DuQ7cydPM"
   },
   "outputs": [],
   "source": [
    "#create a empty DataFrame with required Column names in which we will append data later\n",
    "Table = pd.DataFrame(columns=['Movie Title','Producers','Directors','ROI'])"
   ]
  },
  {
   "cell_type": "markdown",
   "metadata": {
    "id": "n1Es67sHLMfM"
   },
   "source": [
    "####appending in Table Df and using Try Except block to bypass error because some values of the crew dictionaries contain float as value\n",
    "\n"
   ]
  },
  {
   "cell_type": "code",
   "execution_count": null,
   "metadata": {
    "id": "B8SihNaDxtP4"
   },
   "outputs": [],
   "source": [
    "for index,row in no_na_crew.iterrows():\n",
    "\n",
    "  try:\n",
    "      Table = Table.append({'Movie Title':no_na_crew.loc[index,'original_title'],'Producers':create_producer_list(index),'Directors':create_director(index),'ROI':no_na_crew.loc[index,'roi']},ignore_index=True)\n",
    "  except:\n",
    "    continue\n",
    "\n"
   ]
  },
  {
   "cell_type": "markdown",
   "metadata": {
    "id": "P7BBzlEr1dDf"
   },
   "source": [
    "###Table containing columns of Movie Title,its Producers\n",
    "###,Directors and ROI"
   ]
  },
  {
   "cell_type": "code",
   "execution_count": null,
   "metadata": {
    "colab": {
     "base_uri": "https://localhost:8080/",
     "height": 363
    },
    "id": "J1oQJzFK8tPy",
    "outputId": "6d2e242e-7d65-43eb-c515-f8c83334ba17"
   },
   "outputs": [],
   "source": [
    "Table.head(10)"
   ]
  },
  {
   "cell_type": "markdown",
   "metadata": {
    "id": "UObHTK-sLnzW"
   },
   "source": [
    "#Q5.Which actor has acted in the most number of movies? Deep dive into the movies, genres and profits corresponding to this actor."
   ]
  },
  {
   "cell_type": "code",
   "execution_count": null,
   "metadata": {
    "id": "9vHAX3nrk342"
   },
   "outputs": [],
   "source": [
    "#considering only those rows in cast column which have no null values\n",
    "no_na_cast = imdb_df_new[~imdb_df_new['cast'].isna()]"
   ]
  },
  {
   "cell_type": "code",
   "execution_count": null,
   "metadata": {
    "colab": {
     "base_uri": "https://localhost:8080/",
     "height": 36
    },
    "id": "lH0ViTQMmUyL",
    "outputId": "8c409fac-007f-41bc-c1a7-5488c0097565"
   },
   "outputs": [],
   "source": [
    "no_na_cast.loc[0,'cast'][0]['name']"
   ]
  },
  {
   "cell_type": "code",
   "execution_count": null,
   "metadata": {
    "id": "So6XWHnM5pbG"
   },
   "outputs": [],
   "source": [
    "actor_list=[]\n",
    "for index,row in no_na_cast.iterrows():\n",
    "  for iter in no_na_cast.loc[index,'cast']:\n",
    "    if type(iter)== dict:\n",
    "      actor= iter['name']\n",
    "      actor_list.append(actor)"
   ]
  },
  {
   "cell_type": "code",
   "execution_count": null,
   "metadata": {
    "id": "ufsi-gA5m6iR"
   },
   "outputs": [],
   "source": [
    "#create a  DataFrame with actor list\n",
    "Actor_Table = pd.DataFrame(actor_list,columns=['Name of Actor'])"
   ]
  },
  {
   "cell_type": "code",
   "execution_count": null,
   "metadata": {
    "colab": {
     "base_uri": "https://localhost:8080/"
    },
    "id": "rmfNurFl3qM-",
    "outputId": "d8424e0a-cc2b-476c-b724-687ccade336d"
   },
   "outputs": [],
   "source": [
    "Actor_Table.shape"
   ]
  },
  {
   "cell_type": "code",
   "execution_count": null,
   "metadata": {
    "colab": {
     "base_uri": "https://localhost:8080/",
     "height": 206
    },
    "id": "bpq4MYwFoQ2C",
    "outputId": "a84f9a1b-38f1-410e-bcc1-51ae73ea8f00"
   },
   "outputs": [],
   "source": [
    "Actor_Table.head()"
   ]
  },
  {
   "cell_type": "code",
   "execution_count": null,
   "metadata": {
    "colab": {
     "base_uri": "https://localhost:8080/",
     "height": 206
    },
    "id": "IbEbeBp_ol7A",
    "outputId": "02b548ff-90d6-492b-9a14-ba2500042c42"
   },
   "outputs": [],
   "source": [
    "#sorting the actors using groupby function\n",
    "Actor_Table.value_counts().reset_index().head()"
   ]
  },
  {
   "cell_type": "markdown",
   "metadata": {
    "id": "4PIcZB_IEDsC"
   },
   "source": [
    "###Actors who have done maximum movies are:\n"
   ]
  },
  {
   "cell_type": "code",
   "execution_count": null,
   "metadata": {
    "colab": {
     "base_uri": "https://localhost:8080/"
    },
    "id": "tgVrOwW7EDYL",
    "outputId": "ab0f1c7d-9d30-4391-b0cb-29328156c1a7"
   },
   "outputs": [],
   "source": [
    "print('Samuel L. Jackson and Robert De Niro both have done 30 films')"
   ]
  },
  {
   "cell_type": "code",
   "execution_count": null,
   "metadata": {
    "id": "bE2quFSCEzvE"
   },
   "outputs": [],
   "source": [
    "\n",
    "profit1=[]\n",
    "profit2=[]\n",
    "movie1=[]\n",
    "movie2=[]\n",
    "for index,row in no_na_cast.iterrows():\n",
    "  for iter in no_na_cast.loc[index,'cast']:\n",
    "    if type(iter)== dict:\n",
    "      actor= iter['name']\n",
    "      if 'Robert De Niro' in actor:\n",
    "        profit1.append(no_na_cast.loc[index,'profit'])\n",
    "        movie1.append(no_na_cast.loc[index,'original_title'])\n",
    "\n",
    "\n",
    "\n",
    "\n",
    "      if 'Samuel L. Jackson' in actor:\n",
    "        profit2.append(no_na_cast.loc[index,'profit'])\n",
    "        movie2.append(no_na_cast.loc[index,'original_title'])\n",
    "\n",
    "\n",
    "\n",
    "\n",
    "\n"
   ]
  },
  {
   "cell_type": "code",
   "execution_count": null,
   "metadata": {
    "id": "ktprAba4I8hF"
   },
   "outputs": [],
   "source": [
    "#creating a loop to get the genres for Robert and Samuel\n",
    "gener_r=[]\n",
    "a=[]\n",
    "for i in range(len(movie1)):\n",
    "  for g in no_na_cast.loc[i,'genres']:\n",
    "    a.append(g['name'])\n",
    "\n",
    "  gener_r.append(a)\n",
    "  a=[]\n",
    "\n",
    "gener_s=[]\n",
    "b=[]\n",
    "for i in range(len(movie2)):\n",
    "  for g in no_na_cast.loc[i,'genres']:\n",
    "    b.append(g['name'])\n",
    "\n",
    "  gener_s.append(b)\n",
    "  b=[]\n",
    "\n"
   ]
  },
  {
   "cell_type": "code",
   "execution_count": null,
   "metadata": {
    "colab": {
     "base_uri": "https://localhost:8080/"
    },
    "id": "BDfY_vLyJxYF",
    "outputId": "e660d334-c50e-4e8f-85f0-5cc3034d779e"
   },
   "outputs": [],
   "source": [
    "genr = np.array(gener_r)\n",
    "gens = np.array(gener_s)"
   ]
  },
  {
   "cell_type": "code",
   "execution_count": null,
   "metadata": {
    "id": "LWfvTXs_GqPY"
   },
   "outputs": [],
   "source": [
    "#creating sub dataframe for Robert\n",
    "mov1= pd.DataFrame(movie1,columns=['Movie Name'])\n",
    "prof1=pd.DataFrame(profit1,columns=['Movie Profit'])\n",
    "gen1= pd.DataFrame(genr.flatten(),columns=['Genres'])"
   ]
  },
  {
   "cell_type": "code",
   "execution_count": null,
   "metadata": {
    "id": "SZSejFsZGCPa"
   },
   "outputs": [],
   "source": [
    "Movies_by_Robert=pd.concat([mov1,gen1,prof1],axis=1)"
   ]
  },
  {
   "cell_type": "markdown",
   "metadata": {
    "id": "EZdGnSzLK83j"
   },
   "source": [
    "##Movies by Robert De Niro"
   ]
  },
  {
   "cell_type": "code",
   "execution_count": null,
   "metadata": {
    "colab": {
     "base_uri": "https://localhost:8080/",
     "height": 206
    },
    "id": "4FcslpR8GSQy",
    "outputId": "a5ce9457-eccd-4f04-d0a7-cfbae1ad27c6"
   },
   "outputs": [],
   "source": [
    "Movies_by_Robert.sort_values(by='Movie Profit',ascending=False).head()"
   ]
  },
  {
   "cell_type": "code",
   "execution_count": null,
   "metadata": {
    "id": "lw3qNBZmKQFP"
   },
   "outputs": [],
   "source": [
    "#creating sub dataframe for Samuel\n",
    "mov2= pd.DataFrame(movie2,columns=['Movie Name'])\n",
    "prof2=pd.DataFrame(profit2,columns=['Movie Profit'])\n",
    "gen2= pd.DataFrame(gens.flatten(),columns=['Genres'])"
   ]
  },
  {
   "cell_type": "code",
   "execution_count": null,
   "metadata": {
    "id": "UPrvBWSpKbGY"
   },
   "outputs": [],
   "source": [
    "Movies_by_Samuel=pd.concat([mov1,gen1,prof1],axis=1)"
   ]
  },
  {
   "cell_type": "markdown",
   "metadata": {
    "id": "MVWIhdtpLBW-"
   },
   "source": [
    "###Movies by Samuel L jackson"
   ]
  },
  {
   "cell_type": "code",
   "execution_count": null,
   "metadata": {
    "colab": {
     "base_uri": "https://localhost:8080/",
     "height": 206
    },
    "id": "v5wLJfbbKeHg",
    "outputId": "b81011e7-bd21-4627-9424-d05e74b062ab"
   },
   "outputs": [],
   "source": [
    "Movies_by_Samuel.sort_values(by='Movie Profit',ascending=False).head()"
   ]
  },
  {
   "cell_type": "code",
   "execution_count": null,
   "metadata": {
    "id": "NPDRx4fMoLgJ"
   },
   "outputs": [],
   "source": [
    "g=[]\n",
    "each_movie=[]\n",
    "for i in range(5):\n",
    "  b=no_na_genres.loc[i,'genres']\n",
    "  for k in b:\n",
    "    g.append(k['name'])\n",
    "#     each_movie.append([g])\n",
    "\n",
    "#   a=pd.DataFrame((each_movie))\n",
    "#   each_movie=[]\n",
    "# #a=pd.DataFrame([[g]])\n"
   ]
  },
  {
   "cell_type": "code",
   "execution_count": null,
   "metadata": {
    "id": "j0iPSVyKuhpw"
   },
   "outputs": [],
   "source": []
  }
 ],
 "metadata": {
  "colab": {
   "provenance": []
  },
  "kernelspec": {
   "display_name": "Python 3 (ipykernel)",
   "language": "python",
   "name": "python3"
  },
  "language_info": {
   "codemirror_mode": {
    "name": "ipython",
    "version": 3
   },
   "file_extension": ".py",
   "mimetype": "text/x-python",
   "name": "python",
   "nbconvert_exporter": "python",
   "pygments_lexer": "ipython3",
   "version": "3.11.0"
  }
 },
 "nbformat": 4,
 "nbformat_minor": 1
}
